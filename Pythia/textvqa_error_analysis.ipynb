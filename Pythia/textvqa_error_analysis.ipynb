{
 "cells": [
  {
   "cell_type": "code",
   "execution_count": null,
   "metadata": {
    "colab": {
     "base_uri": "https://localhost:8080/"
    },
    "executionInfo": {
     "elapsed": 1516,
     "status": "ok",
     "timestamp": 1605018596422,
     "user": {
      "displayName": "Sweta Kotha",
      "photoUrl": "",
      "userId": "17521858929454292764"
     },
     "user_tz": 360
    },
    "id": "hjHJ0Oi-Hhox",
    "outputId": "66f69551-8da5-41c2-e9a4-8fa8b44de4ea"
   },
   "outputs": [
    {
     "name": "stdout",
     "output_type": "stream",
     "text": [
      "Mounted at /content/drive\n"
     ]
    }
   ],
   "source": [
    "from google.colab import drive\n",
    "drive.mount('/content/drive', force_remount=True)\n",
    "#x_train = np.load('/content/drive/My Drive/dlhw1p2/train.npy', allow_pickle=True)"
   ]
  },
  {
   "cell_type": "code",
   "execution_count": null,
   "metadata": {
    "id": "wEnEXJ2Xhvlo"
   },
   "outputs": [],
   "source": [
    "#! cp \"/content/drive/My Drive/Colab Notebooks/fb_mmf/default_stvqa_testvqa_val_predictions/evaluation_metrics.py\" .\n",
    "#import evaluation_metrics"
   ]
  },
  {
   "cell_type": "code",
   "execution_count": 3,
   "metadata": {
    "id": "HRyjTMtO_7d3"
   },
   "outputs": [],
   "source": [
    "import json\n",
    "import requests\n",
    "import re\n",
    "from collections import Counter\n",
    "\n",
    "import os\n",
    "import numpy as np\n",
    "from PIL import Image\n",
    "\n",
    "import numpy as np\n",
    "import pandas as pd\n",
    "import torch\n",
    "import torch.nn as nn\n",
    "import torch.nn.functional as F\n",
    "from torch.utils.data import Dataset, DataLoader\n",
    "import time\n",
    "\n",
    "from PIL import Image\n",
    "import requests\n",
    "from io import BytesIO\n",
    "\n",
    "import torchvision.models as models\n",
    "import torchvision.transforms as transforms\n",
    "\n",
    "from torch.autograd import Variable\n",
    "\n",
    "# Install required libraries\n",
    "#!pip install torch>=1.2.0 tensorboard future tqdm\n",
    "#from torch.utils.tensorboard import SummaryWriter\n",
    "#from tqdm import tqdm\n",
    "\n",
    "import matplotlib.pyplot as plt\n",
    "import seaborn as sns\n",
    "\n",
    "from sklearn.cluster import KMeans\n",
    "from sklearn.preprocessing import StandardScaler\n",
    "from sklearn.decomposition import PCA\n",
    "from sklearn.manifold import TSNE\n",
    "\n",
    "import pandas as pd\n",
    "from mlxtend.preprocessing import TransactionEncoder\n",
    "from mlxtend.frequent_patterns import apriori"
   ]
  },
  {
   "cell_type": "code",
   "execution_count": null,
   "metadata": {
    "id": "z-4_I-2xs5o_"
   },
   "outputs": [],
   "source": []
  },
  {
   "cell_type": "code",
   "execution_count": null,
   "metadata": {
    "id": "g7yi-BqmYHWT"
   },
   "outputs": [],
   "source": [
    "!cd \"/content/drive/My Drive/Multimodal ML (11-777)/textvqa_data\""
   ]
  },
  {
   "cell_type": "code",
   "execution_count": 4,
   "metadata": {
    "id": "QMZ8AbjQxCMh"
   },
   "outputs": [],
   "source": [
    "url = 'https://dl.fbaipublicfiles.com/textvqa/data/TextVQA_0.5.1_val.json'\n",
    "r = requests.get(url)\n",
    "\n",
    "train = r.json()\n",
    "#print(r.json())"
   ]
  },
  {
   "cell_type": "code",
   "execution_count": 5,
   "metadata": {
    "colab": {
     "base_uri": "https://localhost:8080/"
    },
    "executionInfo": {
     "elapsed": 323,
     "status": "ok",
     "timestamp": 1605018602217,
     "user": {
      "displayName": "Sweta Kotha",
      "photoUrl": "",
      "userId": "17521858929454292764"
     },
     "user_tz": 360
    },
    "id": "0Dc2GFso03N8",
    "outputId": "dbf982c0-7622-4d17-b18f-9e70abe10957"
   },
   "outputs": [
    {
     "data": {
      "text/plain": [
       "5000"
      ]
     },
     "execution_count": 5,
     "metadata": {},
     "output_type": "execute_result"
    }
   ],
   "source": [
    "len(train['data'])"
   ]
  },
  {
   "cell_type": "code",
   "execution_count": 6,
   "metadata": {
    "colab": {
     "base_uri": "https://localhost:8080/"
    },
    "executionInfo": {
     "elapsed": 317,
     "status": "ok",
     "timestamp": 1605018603243,
     "user": {
      "displayName": "Sweta Kotha",
      "photoUrl": "",
      "userId": "17521858929454292764"
     },
     "user_tz": 360
    },
    "id": "oB-IFAsq05Op",
    "outputId": "8cf23d35-447e-47c9-d033-2c311854429b"
   },
   "outputs": [
    {
     "data": {
      "text/plain": [
       "{'question': 'are these switches on or off?',\n",
       " 'image_id': '4dc59c7e57fa8968',\n",
       " 'image_classes': ['Food', 'Light switch'],\n",
       " 'flickr_original_url': 'https://c1.staticflickr.com/3/2686/4333070249_6b317f3a62_o.jpg',\n",
       " 'flickr_300k_url': 'https://c2.staticflickr.com/3/2686/4333070249_384da2502d_z.jpg',\n",
       " 'image_width': 1024,\n",
       " 'image_height': 683,\n",
       " 'answers': ['off',\n",
       "  'off',\n",
       "  'off',\n",
       "  'off',\n",
       "  'off',\n",
       "  'off',\n",
       "  'off',\n",
       "  'off',\n",
       "  'off',\n",
       "  'off'],\n",
       " 'question_tokens': ['are', 'these', 'switches', 'on', 'or', 'off'],\n",
       " 'question_id': 34612,\n",
       " 'set_name': 'val'}"
      ]
     },
     "execution_count": 6,
     "metadata": {},
     "output_type": "execute_result"
    }
   ],
   "source": [
    "train['data'][10]"
   ]
  },
  {
   "cell_type": "code",
   "execution_count": 7,
   "metadata": {
    "id": "cXPUdaDO09aY"
   },
   "outputs": [],
   "source": [
    "training_df = pd.DataFrame(train['data'])"
   ]
  },
  {
   "cell_type": "code",
   "execution_count": 8,
   "metadata": {
    "colab": {
     "base_uri": "https://localhost:8080/",
     "height": 564
    },
    "executionInfo": {
     "elapsed": 341,
     "status": "ok",
     "timestamp": 1605018607899,
     "user": {
      "displayName": "Sweta Kotha",
      "photoUrl": "",
      "userId": "17521858929454292764"
     },
     "user_tz": 360
    },
    "id": "dtkquOjv1Fwi",
    "outputId": "7f02622e-7388-4091-b626-eddb97963b0f"
   },
   "outputs": [
    {
     "data": {
      "text/html": [
       "<div>\n",
       "<style scoped>\n",
       "    .dataframe tbody tr th:only-of-type {\n",
       "        vertical-align: middle;\n",
       "    }\n",
       "\n",
       "    .dataframe tbody tr th {\n",
       "        vertical-align: top;\n",
       "    }\n",
       "\n",
       "    .dataframe thead th {\n",
       "        text-align: right;\n",
       "    }\n",
       "</style>\n",
       "<table border=\"1\" class=\"dataframe\">\n",
       "  <thead>\n",
       "    <tr style=\"text-align: right;\">\n",
       "      <th></th>\n",
       "      <th>question</th>\n",
       "      <th>image_id</th>\n",
       "      <th>image_classes</th>\n",
       "      <th>flickr_original_url</th>\n",
       "      <th>flickr_300k_url</th>\n",
       "      <th>image_width</th>\n",
       "      <th>image_height</th>\n",
       "      <th>answers</th>\n",
       "      <th>question_tokens</th>\n",
       "      <th>question_id</th>\n",
       "      <th>set_name</th>\n",
       "    </tr>\n",
       "  </thead>\n",
       "  <tbody>\n",
       "    <tr>\n",
       "      <th>0</th>\n",
       "      <td>what is the brand of this camera?</td>\n",
       "      <td>003a8ae2ef43b901</td>\n",
       "      <td>[Cassette deck, Printer, Medical equipment, Co...</td>\n",
       "      <td>https://farm2.staticflickr.com/4/5566811_bc00d...</td>\n",
       "      <td>https://farm2.staticflickr.com/4/5566811_bc00d...</td>\n",
       "      <td>1024</td>\n",
       "      <td>664</td>\n",
       "      <td>[nous les gosses, dakota, clos culombu, dakota...</td>\n",
       "      <td>[what, is, the, brand, of, this, camera]</td>\n",
       "      <td>34602</td>\n",
       "      <td>val</td>\n",
       "    </tr>\n",
       "    <tr>\n",
       "      <th>1</th>\n",
       "      <td>what does the small white text spell?</td>\n",
       "      <td>b9dc400eb20bad64</td>\n",
       "      <td>[Billboard]</td>\n",
       "      <td>https://farm5.staticflickr.com/4136/4920614800...</td>\n",
       "      <td>https://c7.staticflickr.com/5/4136/4920614800_...</td>\n",
       "      <td>1024</td>\n",
       "      <td>683</td>\n",
       "      <td>[copenhagen, copenhagen, copenhagen, copenhage...</td>\n",
       "      <td>[what, does, the, small, white, text, spell]</td>\n",
       "      <td>34603</td>\n",
       "      <td>val</td>\n",
       "    </tr>\n",
       "    <tr>\n",
       "      <th>2</th>\n",
       "      <td>what kind of beer is this?</td>\n",
       "      <td>2b538a43dd933fc1</td>\n",
       "      <td>[Surfboard, Drink, Bottle, Wine]</td>\n",
       "      <td>https://farm2.staticflickr.com/3519/5721283932...</td>\n",
       "      <td>https://c8.staticflickr.com/4/3519/5721283932_...</td>\n",
       "      <td>1024</td>\n",
       "      <td>1024</td>\n",
       "      <td>[ale, sublimely self-righteous ale, stone, ale...</td>\n",
       "      <td>[what, kind, of, beer, is, this]</td>\n",
       "      <td>34604</td>\n",
       "      <td>val</td>\n",
       "    </tr>\n",
       "    <tr>\n",
       "      <th>3</th>\n",
       "      <td>what brand liquor is on the right?</td>\n",
       "      <td>831bcec304a17054</td>\n",
       "      <td>[Beer, Drink, Bottle, Wine]</td>\n",
       "      <td>https://farm5.staticflickr.com/5590/1522389734...</td>\n",
       "      <td>https://c6.staticflickr.com/6/5590/15223897342...</td>\n",
       "      <td>1024</td>\n",
       "      <td>576</td>\n",
       "      <td>[bowmore , bowmore, bowmore, bowmore, bowmore,...</td>\n",
       "      <td>[what, brand, liquor, is, on, the, right]</td>\n",
       "      <td>34605</td>\n",
       "      <td>val</td>\n",
       "    </tr>\n",
       "    <tr>\n",
       "      <th>4</th>\n",
       "      <td>how long has the drink on the right been aged?</td>\n",
       "      <td>831bcec304a17054</td>\n",
       "      <td>[Beer, Drink, Bottle, Wine]</td>\n",
       "      <td>https://farm5.staticflickr.com/5590/1522389734...</td>\n",
       "      <td>https://c6.staticflickr.com/6/5590/15223897342...</td>\n",
       "      <td>1024</td>\n",
       "      <td>576</td>\n",
       "      <td>[10 years, 10 year, 10 years, 10 years , 10 ye...</td>\n",
       "      <td>[how, long, has, the, drink, on, the, right, b...</td>\n",
       "      <td>34606</td>\n",
       "      <td>val</td>\n",
       "    </tr>\n",
       "  </tbody>\n",
       "</table>\n",
       "</div>"
      ],
      "text/plain": [
       "                                         question          image_id  \\\n",
       "0               what is the brand of this camera?  003a8ae2ef43b901   \n",
       "1           what does the small white text spell?  b9dc400eb20bad64   \n",
       "2                      what kind of beer is this?  2b538a43dd933fc1   \n",
       "3              what brand liquor is on the right?  831bcec304a17054   \n",
       "4  how long has the drink on the right been aged?  831bcec304a17054   \n",
       "\n",
       "                                       image_classes  \\\n",
       "0  [Cassette deck, Printer, Medical equipment, Co...   \n",
       "1                                        [Billboard]   \n",
       "2                   [Surfboard, Drink, Bottle, Wine]   \n",
       "3                        [Beer, Drink, Bottle, Wine]   \n",
       "4                        [Beer, Drink, Bottle, Wine]   \n",
       "\n",
       "                                 flickr_original_url  \\\n",
       "0  https://farm2.staticflickr.com/4/5566811_bc00d...   \n",
       "1  https://farm5.staticflickr.com/4136/4920614800...   \n",
       "2  https://farm2.staticflickr.com/3519/5721283932...   \n",
       "3  https://farm5.staticflickr.com/5590/1522389734...   \n",
       "4  https://farm5.staticflickr.com/5590/1522389734...   \n",
       "\n",
       "                                     flickr_300k_url  image_width  \\\n",
       "0  https://farm2.staticflickr.com/4/5566811_bc00d...         1024   \n",
       "1  https://c7.staticflickr.com/5/4136/4920614800_...         1024   \n",
       "2  https://c8.staticflickr.com/4/3519/5721283932_...         1024   \n",
       "3  https://c6.staticflickr.com/6/5590/15223897342...         1024   \n",
       "4  https://c6.staticflickr.com/6/5590/15223897342...         1024   \n",
       "\n",
       "   image_height                                            answers  \\\n",
       "0           664  [nous les gosses, dakota, clos culombu, dakota...   \n",
       "1           683  [copenhagen, copenhagen, copenhagen, copenhage...   \n",
       "2          1024  [ale, sublimely self-righteous ale, stone, ale...   \n",
       "3           576  [bowmore , bowmore, bowmore, bowmore, bowmore,...   \n",
       "4           576  [10 years, 10 year, 10 years, 10 years , 10 ye...   \n",
       "\n",
       "                                     question_tokens  question_id set_name  \n",
       "0           [what, is, the, brand, of, this, camera]        34602      val  \n",
       "1       [what, does, the, small, white, text, spell]        34603      val  \n",
       "2                   [what, kind, of, beer, is, this]        34604      val  \n",
       "3          [what, brand, liquor, is, on, the, right]        34605      val  \n",
       "4  [how, long, has, the, drink, on, the, right, b...        34606      val  "
      ]
     },
     "execution_count": 8,
     "metadata": {},
     "output_type": "execute_result"
    }
   ],
   "source": [
    "training_df.head()"
   ]
  },
  {
   "cell_type": "code",
   "execution_count": 9,
   "metadata": {
    "colab": {
     "base_uri": "https://localhost:8080/"
    },
    "executionInfo": {
     "elapsed": 479,
     "status": "ok",
     "timestamp": 1605018610828,
     "user": {
      "displayName": "Sweta Kotha",
      "photoUrl": "",
      "userId": "17521858929454292764"
     },
     "user_tz": 360
    },
    "id": "RzoUOxOo1IHp",
    "outputId": "2da0c1b3-85e8-4d5a-a8be-e5bf80ac0371"
   },
   "outputs": [
    {
     "data": {
      "text/plain": [
       "5000"
      ]
     },
     "execution_count": 9,
     "metadata": {},
     "output_type": "execute_result"
    }
   ],
   "source": [
    "len(training_df)"
   ]
  },
  {
   "cell_type": "code",
   "execution_count": 10,
   "metadata": {
    "id": "YAmLw2921Kh6"
   },
   "outputs": [],
   "source": [
    "predictions_df = pd.read_json(\"textvqa_run_val_pythia.json\")"
   ]
  },
  {
   "cell_type": "code",
   "execution_count": 11,
   "metadata": {
    "colab": {
     "base_uri": "https://localhost:8080/",
     "height": 204
    },
    "executionInfo": {
     "elapsed": 1141,
     "status": "ok",
     "timestamp": 1605018612863,
     "user": {
      "displayName": "Sweta Kotha",
      "photoUrl": "",
      "userId": "17521858929454292764"
     },
     "user_tz": 360
    },
    "id": "LIgkY7ys1PbA",
    "outputId": "bf85ba1d-32ab-405f-c0f5-f03674b55e0c"
   },
   "outputs": [
    {
     "data": {
      "text/html": [
       "<div>\n",
       "<style scoped>\n",
       "    .dataframe tbody tr th:only-of-type {\n",
       "        vertical-align: middle;\n",
       "    }\n",
       "\n",
       "    .dataframe tbody tr th {\n",
       "        vertical-align: top;\n",
       "    }\n",
       "\n",
       "    .dataframe thead th {\n",
       "        text-align: right;\n",
       "    }\n",
       "</style>\n",
       "<table border=\"1\" class=\"dataframe\">\n",
       "  <thead>\n",
       "    <tr style=\"text-align: right;\">\n",
       "      <th></th>\n",
       "      <th>question_id</th>\n",
       "      <th>image_id</th>\n",
       "      <th>answer</th>\n",
       "      <th>pred_source</th>\n",
       "    </tr>\n",
       "  </thead>\n",
       "  <tbody>\n",
       "    <tr>\n",
       "      <th>0</th>\n",
       "      <td>36518</td>\n",
       "      <td>2d145713c11740fc</td>\n",
       "      <td>unanswerable</td>\n",
       "      <td>[VOCAB]</td>\n",
       "    </tr>\n",
       "    <tr>\n",
       "      <th>1</th>\n",
       "      <td>37197</td>\n",
       "      <td>1633f9f22f7b2d31</td>\n",
       "      <td>yes</td>\n",
       "      <td>[VOCAB]</td>\n",
       "    </tr>\n",
       "    <tr>\n",
       "      <th>2</th>\n",
       "      <td>37872</td>\n",
       "      <td>09da9293dfe128d3</td>\n",
       "      <td>unanswerable</td>\n",
       "      <td>[VOCAB]</td>\n",
       "    </tr>\n",
       "    <tr>\n",
       "      <th>3</th>\n",
       "      <td>36204</td>\n",
       "      <td>86c4adf1b1f0e35d</td>\n",
       "      <td>yes</td>\n",
       "      <td>[VOCAB]</td>\n",
       "    </tr>\n",
       "    <tr>\n",
       "      <th>4</th>\n",
       "      <td>36520</td>\n",
       "      <td>01d5dfec05d9e47f</td>\n",
       "      <td>unanswerable</td>\n",
       "      <td>[VOCAB]</td>\n",
       "    </tr>\n",
       "  </tbody>\n",
       "</table>\n",
       "</div>"
      ],
      "text/plain": [
       "   question_id          image_id        answer pred_source\n",
       "0        36518  2d145713c11740fc  unanswerable     [VOCAB]\n",
       "1        37197  1633f9f22f7b2d31           yes     [VOCAB]\n",
       "2        37872  09da9293dfe128d3  unanswerable     [VOCAB]\n",
       "3        36204  86c4adf1b1f0e35d           yes     [VOCAB]\n",
       "4        36520  01d5dfec05d9e47f  unanswerable     [VOCAB]"
      ]
     },
     "execution_count": 11,
     "metadata": {},
     "output_type": "execute_result"
    }
   ],
   "source": [
    "predictions_df.head()"
   ]
  },
  {
   "cell_type": "code",
   "execution_count": null,
   "metadata": {
    "id": "S3Qq2v1w1RYe"
   },
   "outputs": [],
   "source": []
  },
  {
   "cell_type": "code",
   "execution_count": 12,
   "metadata": {
    "colab": {
     "base_uri": "https://localhost:8080/"
    },
    "executionInfo": {
     "elapsed": 320,
     "status": "ok",
     "timestamp": 1605018614245,
     "user": {
      "displayName": "Sweta Kotha",
      "photoUrl": "",
      "userId": "17521858929454292764"
     },
     "user_tz": 360
    },
    "id": "hpSDpHjZ1W4K",
    "outputId": "d19b818d-f32f-4a19-bd1a-9a098c195738"
   },
   "outputs": [
    {
     "data": {
      "text/plain": [
       "5000"
      ]
     },
     "execution_count": 12,
     "metadata": {},
     "output_type": "execute_result"
    }
   ],
   "source": [
    "len(set(predictions_df['question_id'])) #length of validation dataset"
   ]
  },
  {
   "cell_type": "code",
   "execution_count": 13,
   "metadata": {
    "colab": {
     "base_uri": "https://localhost:8080/"
    },
    "executionInfo": {
     "elapsed": 305,
     "status": "ok",
     "timestamp": 1605018615034,
     "user": {
      "displayName": "Sweta Kotha",
      "photoUrl": "",
      "userId": "17521858929454292764"
     },
     "user_tz": 360
    },
    "id": "RQ6YfH4g1YkH",
    "outputId": "89c6bc15-f03f-4f88-d8f7-80aae68a1bed"
   },
   "outputs": [
    {
     "data": {
      "text/plain": [
       "5000"
      ]
     },
     "execution_count": 13,
     "metadata": {},
     "output_type": "execute_result"
    }
   ],
   "source": [
    "len(set(training_df['question_id']))"
   ]
  },
  {
   "cell_type": "code",
   "execution_count": 14,
   "metadata": {
    "colab": {
     "base_uri": "https://localhost:8080/"
    },
    "executionInfo": {
     "elapsed": 627,
     "status": "ok",
     "timestamp": 1605018616067,
     "user": {
      "displayName": "Sweta Kotha",
      "photoUrl": "",
      "userId": "17521858929454292764"
     },
     "user_tz": 360
    },
    "id": "uDHn0BdH1bYt",
    "outputId": "7ce841b6-f0ca-4d43-e06e-8641f6f50726"
   },
   "outputs": [
    {
     "data": {
      "text/plain": [
       "set()"
      ]
     },
     "execution_count": 14,
     "metadata": {},
     "output_type": "execute_result"
    }
   ],
   "source": [
    "#make sure all our predictions can be checked with the answers in the training set (we want this length to be 0)\n",
    "set(predictions_df['question_id']).difference(set(training_df['question_id']))"
   ]
  },
  {
   "cell_type": "code",
   "execution_count": null,
   "metadata": {
    "id": "DlCgTvQT1fLU"
   },
   "outputs": [],
   "source": []
  },
  {
   "cell_type": "code",
   "execution_count": 15,
   "metadata": {
    "colab": {
     "base_uri": "https://localhost:8080/"
    },
    "executionInfo": {
     "elapsed": 303,
     "status": "ok",
     "timestamp": 1605018617438,
     "user": {
      "displayName": "Sweta Kotha",
      "photoUrl": "",
      "userId": "17521858929454292764"
     },
     "user_tz": 360
    },
    "id": "NCAV_61u1fTY",
    "outputId": "c239cc13-1e1f-4acd-d255-8f273bb5c78e"
   },
   "outputs": [
    {
     "name": "stdout",
     "output_type": "stream",
     "text": [
      "unanswerable\n",
      "['miniature glass passivated single-phase bridge rectifiers', '9pm', 'bridge ', 'single-phase bridge rectifiers', 'single-phase bridge', 'miniature glass passivated single-phase bridge', 'minature glass passivated single-phase bridge rectifiers', 'single phase ', 'single phase ', 'single phase bridge']\n",
      "yes\n",
      "['stop sign', '4 way', 'stop', 'stop', 'stop sign', 'stop', 'stop', 'stop sign', '4 way stop sign', 'stop sign']\n",
      "unanswerable\n",
      "['9:01', '9:02', '9:02', '9:02', '9:02', '9:01', '9:02', '9:01', '9:02', '9:03']\n",
      "yes\n",
      "['fallout las vegas', 'fallout new vegas', 'fallout: new vegas', '20', 'fallout: las vegas', 'fallout: new vegas', 'fallout new vegas', 'repconn', 'fallout new vegas ', 'repconn']\n",
      "unanswerable\n",
      "['vataldo', 'beth israel deaconess medical center', 'beth israel deaconess', 'beth israel deaconess', 'beth israel deaconess', 'beth israel deaconess medical center ', 'beth israel deaconess', 'cataldo', 'unanswerable', 'beth israel deaconess medical center']\n"
     ]
    }
   ],
   "source": [
    "x, y = [], []\n",
    "for i in range(5):\n",
    "  pred_values = predictions_df.iloc[i]\n",
    "  question_id = pred_values['question_id']\n",
    "  actual_values = training_df[training_df['question_id'] == question_id]\n",
    "  print(pred_values['answer'])\n",
    "  x.append(pred_values['answer'])\n",
    "  print(actual_values['answers'].item())\n",
    "  y.append(actual_values['answers'].item())"
   ]
  },
  {
   "cell_type": "code",
   "execution_count": null,
   "metadata": {
    "id": "R9-41PZP5-jd"
   },
   "outputs": [],
   "source": []
  },
  {
   "cell_type": "code",
   "execution_count": null,
   "metadata": {
    "id": "PtiEdzzW4sms"
   },
   "outputs": [],
   "source": []
  },
  {
   "cell_type": "markdown",
   "metadata": {
    "id": "NVyJLE1lAYrS"
   },
   "source": [
    "TextVQA Evaluation Metric"
   ]
  },
  {
   "cell_type": "markdown",
   "metadata": {
    "id": "ebiJNyi23os4"
   },
   "source": [
    "Code: \n",
    "\n",
    "https://github.com/GT-Vision-Lab/VQA/blob/master/PythonEvaluationTools/vqaEvaluation/vqaEval.py"
   ]
  },
  {
   "cell_type": "code",
   "execution_count": 16,
   "metadata": {
    "id": "nMlFA-6L4st8"
   },
   "outputs": [],
   "source": [
    "manualMap = {'none': '0', 'zero': '0', 'one': '1', 'two': '2', 'three': '3', 'four': '4', 'five': '5', 'six': '6', 'seven': '7', 'eight': '8', 'nine': '9', 'ten': '10'}\n",
    "articles = ['a', 'an', 'the']\n",
    "periodStrip  = re.compile(\"(?!<=\\d)(\\.)(?!\\d)\")\n",
    "commaStrip   = re.compile(\"(\\d)(\\,)(\\d)\")\n",
    "punct = [';', r\"/\", '[', ']', '\"', '{', '}', '(', ')', '=', '+', '\\\\', '_', '-', '>', '<', '@', '`', ',', '?', '!']\n",
    "contractions = {\"aint\": \"ain't\", \"arent\": \"aren't\", \"cant\": \"can't\", \"couldve\": \"could've\", \"couldnt\": \"couldn't\", \\\n",
    "\t\t\"couldn'tve\": \"couldn't've\", \"couldnt've\": \"couldn't've\", \"didnt\": \"didn't\", \"doesnt\": \"doesn't\", \"dont\": \"don't\", \"hadnt\": \"hadn't\", \\\n",
    "\t\t\"hadnt've\": \"hadn't've\", \"hadn'tve\": \"hadn't've\", \"hasnt\": \"hasn't\", \"havent\": \"haven't\", \"hed\": \"he'd\", \"hed've\": \"he'd've\", \\\n",
    "\t\t\"he'dve\": \"he'd've\", \"hes\": \"he's\", \"howd\": \"how'd\", \"howll\": \"how'll\", \"hows\": \"how's\", \"Id've\": \"I'd've\", \"I'dve\": \"I'd've\", \\\n",
    "\t\t\"Im\": \"I'm\", \"Ive\": \"I've\", \"isnt\": \"isn't\", \"itd\": \"it'd\", \"itd've\": \"it'd've\", \"it'dve\": \"it'd've\", \"itll\": \"it'll\", \"let's\": \"let's\", \\\n",
    "\t\t\"maam\": \"ma'am\", \"mightnt\": \"mightn't\", \"mightnt've\": \"mightn't've\", \"mightn'tve\": \"mightn't've\", \"mightve\": \"might've\", \\\n",
    "\t\t\"mustnt\": \"mustn't\", \"mustve\": \"must've\", \"neednt\": \"needn't\", \"notve\": \"not've\", \"oclock\": \"o'clock\", \"oughtnt\": \"oughtn't\", \\\n",
    "\t\t\"ow's'at\": \"'ow's'at\", \"'ows'at\": \"'ow's'at\", \"'ow'sat\": \"'ow's'at\", \"shant\": \"shan't\", \"shed've\": \"she'd've\", \"she'dve\": \"she'd've\", \\\n",
    "\t\t\"she's\": \"she's\", \"shouldve\": \"should've\", \"shouldnt\": \"shouldn't\", \"shouldnt've\": \"shouldn't've\", \"shouldn'tve\": \"shouldn't've\", \\\n",
    "\t\t\"somebody'd\": \"somebodyd\", \"somebodyd've\": \"somebody'd've\", \"somebody'dve\": \"somebody'd've\", \"somebodyll\": \"somebody'll\", \\\n",
    "\t\t\"somebodys\": \"somebody's\", \"someoned\": \"someone'd\", \"someoned've\": \"someone'd've\", \"someone'dve\": \"someone'd've\", \\\n",
    "\t\t\"someonell\": \"someone'll\", \"someones\": \"someone's\", \"somethingd\": \"something'd\", \"somethingd've\": \"something'd've\", \\\n",
    "\t\t\"something'dve\": \"something'd've\", \"somethingll\": \"something'll\", \"thats\": \"that's\", \"thered\": \"there'd\", \"thered've\": \"there'd've\", \\\n",
    "\t\t\"there'dve\": \"there'd've\", \"therere\": \"there're\", \"theres\": \"there's\", \"theyd\": \"they'd\", \"theyd've\": \"they'd've\", \\\n",
    "\t\t\"they'dve\": \"they'd've\", \"theyll\": \"they'll\", \"theyre\": \"they're\", \"theyve\": \"they've\", \"twas\": \"'twas\", \"wasnt\": \"wasn't\", \\\n",
    "\t\t\"wed've\": \"we'd've\", \"we'dve\": \"we'd've\", \"weve\": \"we've\", \"werent\": \"weren't\", \"whatll\": \"what'll\", \"whatre\": \"what're\", \\\n",
    "\t\t\"whats\": \"what's\", \"whatve\": \"what've\", \"whens\": \"when's\", \"whered\": \"where'd\", \"wheres\": \"where's\", \"whereve\": \"where've\", \\\n",
    "\t\t\"whod\": \"who'd\", \"whod've\": \"who'd've\", \"who'dve\": \"who'd've\", \"wholl\": \"who'll\", \"whos\": \"who's\", \"whove\": \"who've\", \"whyll\": \"why'll\", \\\n",
    "\t\t\"whyre\": \"why're\", \"whys\": \"why's\", \"wont\": \"won't\", \"wouldve\": \"would've\", \"wouldnt\": \"wouldn't\", \"wouldnt've\": \"wouldn't've\", \\\n",
    "\t\t\"wouldn'tve\": \"wouldn't've\", \"yall\": \"y'all\", \"yall'll\": \"y'all'll\", \"y'allll\": \"y'all'll\", \"yall'd've\": \"y'all'd've\", \\\n",
    "\t\t\"y'alld've\": \"y'all'd've\", \"y'all'dve\": \"y'all'd've\", \"youd\": \"you'd\", \"youd've\": \"you'd've\", \"you'dve\": \"you'd've\", \\\n",
    "\t\t\"youll\": \"you'll\", \"youre\": \"you're\", \"youve\": \"you've\"}"
   ]
  },
  {
   "cell_type": "code",
   "execution_count": 17,
   "metadata": {
    "id": "coc8386E9sef"
   },
   "outputs": [],
   "source": [
    "def evaluate(labels, preds):\n",
    "  assert(len(labels) == len(preds))\n",
    "  accuracies = []\n",
    "  for resAns in preds:\n",
    "    resAns = resAns.replace('\\n', ' ')\n",
    "    resAns = resAns.replace('\\t', ' ')\n",
    "    resAns = resAns.strip()\n",
    "    resAns = processPunctuation(resAns)\n",
    "    resAns = processDigitArticle(resAns)\n",
    "\n",
    "  process_labels = []\n",
    "  for list_answers in labels:\n",
    "    process_labels.append([processPunctuation(item) for item in list_answers])\n",
    "\n",
    "  for i in range(len(process_labels)):\n",
    "    list_answers = labels[i]\n",
    "    incorrect = [item for item in list_answers if item!=preds[i]]\n",
    "    correct = [item for item in list_answers if item==preds[i]]\n",
    "    acc = min(1, float(len(correct))/3)\n",
    "    accuracies.append(acc)\n",
    "\t\n",
    "  avg_acc = float(sum(accuracies))/len(accuracies)\n",
    "  assert(len(accuracies) == len(preds) == len(process_labels))\n",
    "  return(accuracies, avg_acc)"
   ]
  },
  {
   "cell_type": "code",
   "execution_count": 18,
   "metadata": {
    "id": "fmsqlphb-N-R"
   },
   "outputs": [],
   "source": [
    "def processPunctuation(inText):\n",
    "\toutText = inText\n",
    "\tfor p in punct:\n",
    "\t\tif (p + ' ' in inText or ' ' + p in inText) or (re.search(commaStrip, inText) != None):\n",
    "\t\t\toutText = outText.replace(p, '')\n",
    "\t\telse:\n",
    "\t\t\toutText = outText.replace(p, ' ')\t\n",
    "\t\t\toutText = periodStrip.sub(\"\",\n",
    "\t\t\t\toutText,\n",
    "\t\t\t\tre.UNICODE)\n",
    "\treturn outText"
   ]
  },
  {
   "cell_type": "code",
   "execution_count": 19,
   "metadata": {
    "id": "V7AWHuTv-Wqj"
   },
   "outputs": [],
   "source": [
    "def processDigitArticle(inText):\n",
    "\toutText = []\n",
    "\ttempText = inText.lower().split()\n",
    "\tfor word in tempText:\n",
    "\t\tword = manualMap.setdefault(word, word)\n",
    "\t\tif word not in articles:\n",
    "\t\t\toutText.append(word)\n",
    "\t\telse: pass\n",
    "    \n",
    "\tfor wordId, word in enumerate(outText):\n",
    "\t\tif word in contractions: \n",
    "\t\t\toutText[wordId] = contractions[word]\n",
    "\t\t\toutText = ' '.join(outText)\n",
    "\treturn outText"
   ]
  },
  {
   "cell_type": "code",
   "execution_count": 20,
   "metadata": {
    "colab": {
     "base_uri": "https://localhost:8080/"
    },
    "executionInfo": {
     "elapsed": 290,
     "status": "ok",
     "timestamp": 1605021196582,
     "user": {
      "displayName": "Sweta Kotha",
      "photoUrl": "",
      "userId": "17521858929454292764"
     },
     "user_tz": 360
    },
    "id": "nF_m4Od3-eiV",
    "outputId": "88c63489-20b5-4674-de12-dd8f7fa4b1b4"
   },
   "outputs": [
    {
     "data": {
      "text/plain": [
       "([0.0, 0.0, 0.0, 0.0, 0.3333333333333333], 0.06666666666666667)"
      ]
     },
     "execution_count": 20,
     "metadata": {},
     "output_type": "execute_result"
    }
   ],
   "source": [
    "evaluate(y, x)"
   ]
  },
  {
   "cell_type": "code",
   "execution_count": null,
   "metadata": {
    "id": "By87j0VtkRAU"
   },
   "outputs": [],
   "source": []
  },
  {
   "cell_type": "code",
   "execution_count": 21,
   "metadata": {
    "id": "YHGZoMRokREQ"
   },
   "outputs": [],
   "source": [
    "combo_df = pd.DataFrame()\n",
    "#range of len(predictions_df)\n",
    "for i in range(len(predictions_df)):\n",
    "  pred_values = predictions_df.iloc[i]\n",
    "  question_id = pred_values['question_id']\n",
    "  temp_df = training_df[training_df['question_id'] == question_id].set_index('question_id')\n",
    "  #print(len(temp_df))\n",
    "  #print(pred_values)\n",
    "  #print(temp_df)\n",
    "  temp_df['answer'] = pred_values['answer']\n",
    "  temp_df['pred_source'] = [pred_values['pred_source']] #list\n",
    "  combo_df = pd.concat([combo_df, temp_df], axis=0)"
   ]
  },
  {
   "cell_type": "code",
   "execution_count": 22,
   "metadata": {
    "colab": {
     "base_uri": "https://localhost:8080/",
     "height": 1000
    },
    "executionInfo": {
     "elapsed": 448,
     "status": "ok",
     "timestamp": 1605021280145,
     "user": {
      "displayName": "Sweta Kotha",
      "photoUrl": "",
      "userId": "17521858929454292764"
     },
     "user_tz": 360
    },
    "id": "iUhNinVUuLxd",
    "outputId": "46b31274-3f60-4953-8be3-ad6bc4a67068"
   },
   "outputs": [
    {
     "data": {
      "text/html": [
       "<div>\n",
       "<style scoped>\n",
       "    .dataframe tbody tr th:only-of-type {\n",
       "        vertical-align: middle;\n",
       "    }\n",
       "\n",
       "    .dataframe tbody tr th {\n",
       "        vertical-align: top;\n",
       "    }\n",
       "\n",
       "    .dataframe thead th {\n",
       "        text-align: right;\n",
       "    }\n",
       "</style>\n",
       "<table border=\"1\" class=\"dataframe\">\n",
       "  <thead>\n",
       "    <tr style=\"text-align: right;\">\n",
       "      <th></th>\n",
       "      <th>question</th>\n",
       "      <th>image_id</th>\n",
       "      <th>image_classes</th>\n",
       "      <th>flickr_original_url</th>\n",
       "      <th>flickr_300k_url</th>\n",
       "      <th>image_width</th>\n",
       "      <th>image_height</th>\n",
       "      <th>answers</th>\n",
       "      <th>question_tokens</th>\n",
       "      <th>set_name</th>\n",
       "      <th>answer</th>\n",
       "      <th>pred_source</th>\n",
       "    </tr>\n",
       "    <tr>\n",
       "      <th>question_id</th>\n",
       "      <th></th>\n",
       "      <th></th>\n",
       "      <th></th>\n",
       "      <th></th>\n",
       "      <th></th>\n",
       "      <th></th>\n",
       "      <th></th>\n",
       "      <th></th>\n",
       "      <th></th>\n",
       "      <th></th>\n",
       "      <th></th>\n",
       "      <th></th>\n",
       "    </tr>\n",
       "  </thead>\n",
       "  <tbody>\n",
       "    <tr>\n",
       "      <th>36518</th>\n",
       "      <td>what kind of rectifiers are in the product?</td>\n",
       "      <td>2d145713c11740fc</td>\n",
       "      <td>[Mobile phone]</td>\n",
       "      <td>https://c5.staticflickr.com/9/8533/8696379045_...</td>\n",
       "      <td>https://c4.staticflickr.com/9/8533/8696379045_...</td>\n",
       "      <td>1024</td>\n",
       "      <td>683</td>\n",
       "      <td>[miniature glass passivated single-phase bridg...</td>\n",
       "      <td>[what, kind, of, rectifiers, are, in, the, pro...</td>\n",
       "      <td>val</td>\n",
       "      <td>unanswerable</td>\n",
       "      <td>[VOCAB]</td>\n",
       "    </tr>\n",
       "    <tr>\n",
       "      <th>37197</th>\n",
       "      <td>what type of sign is this?</td>\n",
       "      <td>1633f9f22f7b2d31</td>\n",
       "      <td>[Tree, Stop sign]</td>\n",
       "      <td>https://farm2.staticflickr.com/164/435952542_3...</td>\n",
       "      <td>https://c8.staticflickr.com/1/164/435952542_03...</td>\n",
       "      <td>1024</td>\n",
       "      <td>683</td>\n",
       "      <td>[stop sign, 4 way, stop, stop, stop sign, stop...</td>\n",
       "      <td>[what, type, of, sign, is, this]</td>\n",
       "      <td>val</td>\n",
       "      <td>yes</td>\n",
       "      <td>[VOCAB]</td>\n",
       "    </tr>\n",
       "    <tr>\n",
       "      <th>37872</th>\n",
       "      <td>what is the time on the clock?</td>\n",
       "      <td>09da9293dfe128d3</td>\n",
       "      <td>[Bottle, Mirror, Clock, Alarm clock]</td>\n",
       "      <td>https://farm4.staticflickr.com/7099/6889100876...</td>\n",
       "      <td>https://c1.staticflickr.com/8/7099/6889100876_...</td>\n",
       "      <td>768</td>\n",
       "      <td>1024</td>\n",
       "      <td>[9:01, 9:02, 9:02, 9:02, 9:02, 9:01, 9:02, 9:0...</td>\n",
       "      <td>[what, is, the, time, on, the, clock]</td>\n",
       "      <td>val</td>\n",
       "      <td>unanswerable</td>\n",
       "      <td>[VOCAB]</td>\n",
       "    </tr>\n",
       "    <tr>\n",
       "      <th>36204</th>\n",
       "      <td>what game is this?</td>\n",
       "      <td>86c4adf1b1f0e35d</td>\n",
       "      <td>[Coin, Vehicle]</td>\n",
       "      <td>https://c6.staticflickr.com/5/4131/5145008275_...</td>\n",
       "      <td>https://c7.staticflickr.com/5/4131/5145008275_...</td>\n",
       "      <td>1024</td>\n",
       "      <td>576</td>\n",
       "      <td>[fallout las vegas, fallout new vegas, fallout...</td>\n",
       "      <td>[what, game, is, this]</td>\n",
       "      <td>val</td>\n",
       "      <td>yes</td>\n",
       "      <td>[VOCAB]</td>\n",
       "    </tr>\n",
       "    <tr>\n",
       "      <th>36520</th>\n",
       "      <td>what is the name of the medical center on the ...</td>\n",
       "      <td>01d5dfec05d9e47f</td>\n",
       "      <td>[Vehicle, Building, Car, Ambulance, Stretcher,...</td>\n",
       "      <td>https://c8.staticflickr.com/2/1083/1104115585_...</td>\n",
       "      <td>https://c5.staticflickr.com/2/1083/1104115585_...</td>\n",
       "      <td>1024</td>\n",
       "      <td>655</td>\n",
       "      <td>[vataldo, beth israel deaconess medical center...</td>\n",
       "      <td>[what, is, the, name, of, the, medical, center...</td>\n",
       "      <td>val</td>\n",
       "      <td>unanswerable</td>\n",
       "      <td>[VOCAB]</td>\n",
       "    </tr>\n",
       "    <tr>\n",
       "      <th>...</th>\n",
       "      <td>...</td>\n",
       "      <td>...</td>\n",
       "      <td>...</td>\n",
       "      <td>...</td>\n",
       "      <td>...</td>\n",
       "      <td>...</td>\n",
       "      <td>...</td>\n",
       "      <td>...</td>\n",
       "      <td>...</td>\n",
       "      <td>...</td>\n",
       "      <td>...</td>\n",
       "      <td>...</td>\n",
       "    </tr>\n",
       "    <tr>\n",
       "      <th>37207</th>\n",
       "      <td>what type of jewelry is mentioned on the clock...</td>\n",
       "      <td>fe96f14d5ca8d3a6</td>\n",
       "      <td>[Clock, Fashion accessory, Clothing, Window, W...</td>\n",
       "      <td>https://farm7.staticflickr.com/77/172408441_53...</td>\n",
       "      <td>https://c1.staticflickr.com/1/77/172408441_535...</td>\n",
       "      <td>1024</td>\n",
       "      <td>682</td>\n",
       "      <td>[diamonds, havtom's diamonds, diamonds, diamon...</td>\n",
       "      <td>[what, type, of, jewelry, is, mentioned, on, t...</td>\n",
       "      <td>val</td>\n",
       "      <td>unanswerable</td>\n",
       "      <td>[VOCAB]</td>\n",
       "    </tr>\n",
       "    <tr>\n",
       "      <th>39388</th>\n",
       "      <td>what is inside the building?</td>\n",
       "      <td>0004c9478eeda995</td>\n",
       "      <td>[Apple, Traffic light, Bus, Land vehicle, Cloc...</td>\n",
       "      <td>https://farm6.staticflickr.com/4014/4720024924...</td>\n",
       "      <td>https://c1.staticflickr.com/5/4014/4720024924_...</td>\n",
       "      <td>768</td>\n",
       "      <td>1024</td>\n",
       "      <td>[bar, cocktails, cocktails , cocktails, cockta...</td>\n",
       "      <td>[what, is, inside, the, building]</td>\n",
       "      <td>val</td>\n",
       "      <td>yes</td>\n",
       "      <td>[VOCAB]</td>\n",
       "    </tr>\n",
       "    <tr>\n",
       "      <th>36400</th>\n",
       "      <td>what number does the green mascot wear?</td>\n",
       "      <td>c2d8f29a82ec36a3</td>\n",
       "      <td>[Person, Sports equipment]</td>\n",
       "      <td>https://farm4.staticflickr.com/12/18678924_3b4...</td>\n",
       "      <td>https://c7.staticflickr.com/1/12/18678924_3b4d...</td>\n",
       "      <td>1024</td>\n",
       "      <td>768</td>\n",
       "      <td>[88, 88, 88, 88, 88, 88, 88, 88, 88, 88]</td>\n",
       "      <td>[what, number, does, the, green, mascot, wear]</td>\n",
       "      <td>val</td>\n",
       "      <td>yes</td>\n",
       "      <td>[VOCAB]</td>\n",
       "    </tr>\n",
       "    <tr>\n",
       "      <th>38020</th>\n",
       "      <td>what is the name of this magazine?</td>\n",
       "      <td>dd4c98590502ed2a</td>\n",
       "      <td>[Poster]</td>\n",
       "      <td>https://c3.staticflickr.com/4/3739/9765848214_...</td>\n",
       "      <td>https://c1.staticflickr.com/4/3739/9765848214_...</td>\n",
       "      <td>1024</td>\n",
       "      <td>768</td>\n",
       "      <td>[kompass, kompass fur aldenhoven , kompass, ko...</td>\n",
       "      <td>[what, is, the, name, of, this, magazine]</td>\n",
       "      <td>val</td>\n",
       "      <td>unanswerable</td>\n",
       "      <td>[VOCAB]</td>\n",
       "    </tr>\n",
       "    <tr>\n",
       "      <th>38881</th>\n",
       "      <td>which clothing company is featured on the whit...</td>\n",
       "      <td>3f320652403faca3</td>\n",
       "      <td>[Football, Person, Plant, Sports equipment]</td>\n",
       "      <td>https://farm4.staticflickr.com/2039/2228963085...</td>\n",
       "      <td>https://c6.staticflickr.com/3/2039/2228963085_...</td>\n",
       "      <td>1024</td>\n",
       "      <td>576</td>\n",
       "      <td>[nike, nike, nike, nike, nike, nike, nike, nik...</td>\n",
       "      <td>[which, clothing, company, is, featured, on, t...</td>\n",
       "      <td>val</td>\n",
       "      <td>unanswerable</td>\n",
       "      <td>[VOCAB]</td>\n",
       "    </tr>\n",
       "  </tbody>\n",
       "</table>\n",
       "<p>5000 rows × 12 columns</p>\n",
       "</div>"
      ],
      "text/plain": [
       "                                                      question  \\\n",
       "question_id                                                      \n",
       "36518              what kind of rectifiers are in the product?   \n",
       "37197                               what type of sign is this?   \n",
       "37872                           what is the time on the clock?   \n",
       "36204                                       what game is this?   \n",
       "36520        what is the name of the medical center on the ...   \n",
       "...                                                        ...   \n",
       "37207        what type of jewelry is mentioned on the clock...   \n",
       "39388                             what is inside the building?   \n",
       "36400                  what number does the green mascot wear?   \n",
       "38020                       what is the name of this magazine?   \n",
       "38881        which clothing company is featured on the whit...   \n",
       "\n",
       "                     image_id  \\\n",
       "question_id                     \n",
       "36518        2d145713c11740fc   \n",
       "37197        1633f9f22f7b2d31   \n",
       "37872        09da9293dfe128d3   \n",
       "36204        86c4adf1b1f0e35d   \n",
       "36520        01d5dfec05d9e47f   \n",
       "...                       ...   \n",
       "37207        fe96f14d5ca8d3a6   \n",
       "39388        0004c9478eeda995   \n",
       "36400        c2d8f29a82ec36a3   \n",
       "38020        dd4c98590502ed2a   \n",
       "38881        3f320652403faca3   \n",
       "\n",
       "                                                 image_classes  \\\n",
       "question_id                                                      \n",
       "36518                                           [Mobile phone]   \n",
       "37197                                        [Tree, Stop sign]   \n",
       "37872                     [Bottle, Mirror, Clock, Alarm clock]   \n",
       "36204                                          [Coin, Vehicle]   \n",
       "36520        [Vehicle, Building, Car, Ambulance, Stretcher,...   \n",
       "...                                                        ...   \n",
       "37207        [Clock, Fashion accessory, Clothing, Window, W...   \n",
       "39388        [Apple, Traffic light, Bus, Land vehicle, Cloc...   \n",
       "36400                               [Person, Sports equipment]   \n",
       "38020                                                 [Poster]   \n",
       "38881              [Football, Person, Plant, Sports equipment]   \n",
       "\n",
       "                                           flickr_original_url  \\\n",
       "question_id                                                      \n",
       "36518        https://c5.staticflickr.com/9/8533/8696379045_...   \n",
       "37197        https://farm2.staticflickr.com/164/435952542_3...   \n",
       "37872        https://farm4.staticflickr.com/7099/6889100876...   \n",
       "36204        https://c6.staticflickr.com/5/4131/5145008275_...   \n",
       "36520        https://c8.staticflickr.com/2/1083/1104115585_...   \n",
       "...                                                        ...   \n",
       "37207        https://farm7.staticflickr.com/77/172408441_53...   \n",
       "39388        https://farm6.staticflickr.com/4014/4720024924...   \n",
       "36400        https://farm4.staticflickr.com/12/18678924_3b4...   \n",
       "38020        https://c3.staticflickr.com/4/3739/9765848214_...   \n",
       "38881        https://farm4.staticflickr.com/2039/2228963085...   \n",
       "\n",
       "                                               flickr_300k_url  image_width  \\\n",
       "question_id                                                                   \n",
       "36518        https://c4.staticflickr.com/9/8533/8696379045_...         1024   \n",
       "37197        https://c8.staticflickr.com/1/164/435952542_03...         1024   \n",
       "37872        https://c1.staticflickr.com/8/7099/6889100876_...          768   \n",
       "36204        https://c7.staticflickr.com/5/4131/5145008275_...         1024   \n",
       "36520        https://c5.staticflickr.com/2/1083/1104115585_...         1024   \n",
       "...                                                        ...          ...   \n",
       "37207        https://c1.staticflickr.com/1/77/172408441_535...         1024   \n",
       "39388        https://c1.staticflickr.com/5/4014/4720024924_...          768   \n",
       "36400        https://c7.staticflickr.com/1/12/18678924_3b4d...         1024   \n",
       "38020        https://c1.staticflickr.com/4/3739/9765848214_...         1024   \n",
       "38881        https://c6.staticflickr.com/3/2039/2228963085_...         1024   \n",
       "\n",
       "             image_height                                            answers  \\\n",
       "question_id                                                                    \n",
       "36518                 683  [miniature glass passivated single-phase bridg...   \n",
       "37197                 683  [stop sign, 4 way, stop, stop, stop sign, stop...   \n",
       "37872                1024  [9:01, 9:02, 9:02, 9:02, 9:02, 9:01, 9:02, 9:0...   \n",
       "36204                 576  [fallout las vegas, fallout new vegas, fallout...   \n",
       "36520                 655  [vataldo, beth israel deaconess medical center...   \n",
       "...                   ...                                                ...   \n",
       "37207                 682  [diamonds, havtom's diamonds, diamonds, diamon...   \n",
       "39388                1024  [bar, cocktails, cocktails , cocktails, cockta...   \n",
       "36400                 768           [88, 88, 88, 88, 88, 88, 88, 88, 88, 88]   \n",
       "38020                 768  [kompass, kompass fur aldenhoven , kompass, ko...   \n",
       "38881                 576  [nike, nike, nike, nike, nike, nike, nike, nik...   \n",
       "\n",
       "                                               question_tokens set_name  \\\n",
       "question_id                                                               \n",
       "36518        [what, kind, of, rectifiers, are, in, the, pro...      val   \n",
       "37197                         [what, type, of, sign, is, this]      val   \n",
       "37872                    [what, is, the, time, on, the, clock]      val   \n",
       "36204                                   [what, game, is, this]      val   \n",
       "36520        [what, is, the, name, of, the, medical, center...      val   \n",
       "...                                                        ...      ...   \n",
       "37207        [what, type, of, jewelry, is, mentioned, on, t...      val   \n",
       "39388                        [what, is, inside, the, building]      val   \n",
       "36400           [what, number, does, the, green, mascot, wear]      val   \n",
       "38020                [what, is, the, name, of, this, magazine]      val   \n",
       "38881        [which, clothing, company, is, featured, on, t...      val   \n",
       "\n",
       "                   answer pred_source  \n",
       "question_id                            \n",
       "36518        unanswerable     [VOCAB]  \n",
       "37197                 yes     [VOCAB]  \n",
       "37872        unanswerable     [VOCAB]  \n",
       "36204                 yes     [VOCAB]  \n",
       "36520        unanswerable     [VOCAB]  \n",
       "...                   ...         ...  \n",
       "37207        unanswerable     [VOCAB]  \n",
       "39388                 yes     [VOCAB]  \n",
       "36400                 yes     [VOCAB]  \n",
       "38020        unanswerable     [VOCAB]  \n",
       "38881        unanswerable     [VOCAB]  \n",
       "\n",
       "[5000 rows x 12 columns]"
      ]
     },
     "execution_count": 22,
     "metadata": {},
     "output_type": "execute_result"
    }
   ],
   "source": [
    "combo_df"
   ]
  },
  {
   "cell_type": "code",
   "execution_count": null,
   "metadata": {
    "id": "KuI3o6JyuxKz"
   },
   "outputs": [],
   "source": []
  },
  {
   "cell_type": "code",
   "execution_count": 23,
   "metadata": {
    "id": "LzixdCLWuxgl"
   },
   "outputs": [],
   "source": [
    "metrics = evaluate(list(combo_df['answers']), list(combo_df['answer'])) #labels, preds"
   ]
  },
  {
   "cell_type": "code",
   "execution_count": 24,
   "metadata": {
    "id": "yLXxB0eCvzOQ"
   },
   "outputs": [],
   "source": [
    "accuracies, avg_acc = metrics"
   ]
  },
  {
   "cell_type": "code",
   "execution_count": 25,
   "metadata": {
    "colab": {
     "base_uri": "https://localhost:8080/"
    },
    "executionInfo": {
     "elapsed": 333,
     "status": "ok",
     "timestamp": 1605021787117,
     "user": {
      "displayName": "Sweta Kotha",
      "photoUrl": "",
      "userId": "17521858929454292764"
     },
     "user_tz": 360
    },
    "id": "2z2iaFJSwMgR",
    "outputId": "448d27ac-2057-49f6-ec0e-1ada282637fe"
   },
   "outputs": [
    {
     "data": {
      "text/plain": [
       "0.0667333333333333"
      ]
     },
     "execution_count": 25,
     "metadata": {},
     "output_type": "execute_result"
    }
   ],
   "source": [
    "#ACCURACY\n",
    "avg_acc"
   ]
  },
  {
   "cell_type": "code",
   "execution_count": 26,
   "metadata": {
    "colab": {
     "base_uri": "https://localhost:8080/"
    },
    "executionInfo": {
     "elapsed": 320,
     "status": "ok",
     "timestamp": 1605021800784,
     "user": {
      "displayName": "Sweta Kotha",
      "photoUrl": "",
      "userId": "17521858929454292764"
     },
     "user_tz": 360
    },
    "id": "OmL9h_K3wO0f",
    "outputId": "ce202705-8731-4358-f829-e5ab669e3ea0"
   },
   "outputs": [
    {
     "data": {
      "text/plain": [
       "5000"
      ]
     },
     "execution_count": 26,
     "metadata": {},
     "output_type": "execute_result"
    }
   ],
   "source": [
    "len(accuracies)"
   ]
  },
  {
   "cell_type": "code",
   "execution_count": null,
   "metadata": {
    "id": "j9n7egIywSEx"
   },
   "outputs": [],
   "source": []
  },
  {
   "cell_type": "code",
   "execution_count": 27,
   "metadata": {
    "id": "1L15YRK7wSLT"
   },
   "outputs": [],
   "source": [
    "combo_df['EVAL'] = accuracies"
   ]
  },
  {
   "cell_type": "markdown",
   "metadata": {
    "id": "RsZ2g4cJw07l"
   },
   "source": [
    "## ERROR ANALYSIS\n",
    "\n",
    "I'm setting:\n",
    "\n",
    "wrong: <= 0.35\n",
    "\n",
    "right: > 0.35"
   ]
  },
  {
   "cell_type": "code",
   "execution_count": 28,
   "metadata": {
    "id": "cb3bzrXowx8Z"
   },
   "outputs": [],
   "source": [
    "right = combo_df[combo_df['EVAL'] > 0.35]\n",
    "wrong = combo_df[combo_df['EVAL'] <= 0.35]"
   ]
  },
  {
   "cell_type": "code",
   "execution_count": 29,
   "metadata": {
    "colab": {
     "base_uri": "https://localhost:8080/"
    },
    "executionInfo": {
     "elapsed": 343,
     "status": "ok",
     "timestamp": 1605023097108,
     "user": {
      "displayName": "Sweta Kotha",
      "photoUrl": "",
      "userId": "17521858929454292764"
     },
     "user_tz": 360
    },
    "id": "A2nEzgjk0-F7",
    "outputId": "d6abc56f-a92e-47b3-9255-014bf9e26a49"
   },
   "outputs": [
    {
     "data": {
      "text/plain": [
       "1"
      ]
     },
     "execution_count": 29,
     "metadata": {},
     "output_type": "execute_result"
    }
   ],
   "source": [
    "#how many different answers\n",
    "len(Counter(list(combo_df['answers'])[10]))"
   ]
  },
  {
   "cell_type": "code",
   "execution_count": 30,
   "metadata": {
    "colab": {
     "base_uri": "https://localhost:8080/"
    },
    "executionInfo": {
     "elapsed": 281,
     "status": "ok",
     "timestamp": 1605023163685,
     "user": {
      "displayName": "Sweta Kotha",
      "photoUrl": "",
      "userId": "17521858929454292764"
     },
     "user_tz": 360
    },
    "id": "wn10nID_0uzv",
    "outputId": "1eb556a3-ec90-40dc-9cbe-420b174e2141"
   },
   "outputs": [
    {
     "data": {
      "text/plain": [
       "[(3, 72), (2, 71), (1, 48), (4, 44), (5, 31), (6, 19), (7, 7), (9, 2), (8, 1)]"
      ]
     },
     "execution_count": 30,
     "metadata": {},
     "output_type": "execute_result"
    }
   ],
   "source": [
    "#how many different answers!\n",
    "Counter(len(Counter(item)) for item in right['answers']).most_common(n=10)"
   ]
  },
  {
   "cell_type": "code",
   "execution_count": 31,
   "metadata": {
    "colab": {
     "base_uri": "https://localhost:8080/"
    },
    "executionInfo": {
     "elapsed": 263,
     "status": "ok",
     "timestamp": 1605023177228,
     "user": {
      "displayName": "Sweta Kotha",
      "photoUrl": "",
      "userId": "17521858929454292764"
     },
     "user_tz": 360
    },
    "id": "smr7nCyo1gR7",
    "outputId": "e88cbd13-8963-444c-b3f1-485eff225ab5"
   },
   "outputs": [
    {
     "data": {
      "text/plain": [
       "[(2, 1146),\n",
       " (3, 980),\n",
       " (1, 905),\n",
       " (4, 709),\n",
       " (5, 430),\n",
       " (6, 230),\n",
       " (7, 146),\n",
       " (8, 103),\n",
       " (9, 36),\n",
       " (10, 20)]"
      ]
     },
     "execution_count": 31,
     "metadata": {},
     "output_type": "execute_result"
    }
   ],
   "source": [
    "#how many different answers!\n",
    "Counter(len(Counter(item)) for item in wrong['answers']).most_common(n=10)"
   ]
  },
  {
   "cell_type": "code",
   "execution_count": 32,
   "metadata": {
    "colab": {
     "base_uri": "https://localhost:8080/"
    },
    "executionInfo": {
     "elapsed": 282,
     "status": "ok",
     "timestamp": 1605022381375,
     "user": {
      "displayName": "Sweta Kotha",
      "photoUrl": "",
      "userId": "17521858929454292764"
     },
     "user_tz": 360
    },
    "id": "qHUDLyTLx_0X",
    "outputId": "bd035a99-8526-4352-8d24-1fcc9de88140"
   },
   "outputs": [
    {
     "data": {
      "text/plain": [
       "Counter({'VOCAB': 4705})"
      ]
     },
     "execution_count": 32,
     "metadata": {},
     "output_type": "execute_result"
    }
   ],
   "source": [
    "Counter([source for pred_sources in wrong['pred_source'] for source in pred_sources])"
   ]
  },
  {
   "cell_type": "code",
   "execution_count": 33,
   "metadata": {
    "colab": {
     "base_uri": "https://localhost:8080/"
    },
    "executionInfo": {
     "elapsed": 291,
     "status": "ok",
     "timestamp": 1605022383107,
     "user": {
      "displayName": "Sweta Kotha",
      "photoUrl": "",
      "userId": "17521858929454292764"
     },
     "user_tz": 360
    },
    "id": "IvMTqwaPyBKl",
    "outputId": "2fb09c50-0d50-4dea-f496-1de1d26d6c5e"
   },
   "outputs": [
    {
     "data": {
      "text/plain": [
       "Counter({'VOCAB': 295})"
      ]
     },
     "execution_count": 33,
     "metadata": {},
     "output_type": "execute_result"
    }
   ],
   "source": [
    "Counter([source for pred_sources in right['pred_source'] for source in pred_sources])"
   ]
  },
  {
   "cell_type": "code",
   "execution_count": 34,
   "metadata": {
    "colab": {
     "base_uri": "https://localhost:8080/"
    },
    "executionInfo": {
     "elapsed": 279,
     "status": "ok",
     "timestamp": 1605022430540,
     "user": {
      "displayName": "Sweta Kotha",
      "photoUrl": "",
      "userId": "17521858929454292764"
     },
     "user_tz": 360
    },
    "id": "-yZhZZPIyDbm",
    "outputId": "c5c67278-32ab-4075-f6f4-cf0b7206267c"
   },
   "outputs": [
    {
     "data": {
      "text/plain": [
       "[('the', 4533),\n",
       " ('what', 3883),\n",
       " ('is', 3344),\n",
       " ('of', 1457),\n",
       " ('on', 1286),\n",
       " ('this', 1079),\n",
       " ('in', 510),\n",
       " ('number', 476),\n",
       " ('brand', 453),\n",
       " ('name', 427),\n",
       " ('does', 419),\n",
       " ('are', 320),\n",
       " ('who', 246),\n",
       " (\"'\", 243),\n",
       " ('say', 242),\n",
       " ('to', 236),\n",
       " ('s', 235),\n",
       " ('book', 216),\n",
       " ('kind', 206),\n",
       " ('right', 206),\n",
       " ('how', 187),\n",
       " ('sign', 186),\n",
       " ('it', 175),\n",
       " ('left', 172),\n",
       " ('word', 168),\n",
       " ('written', 166),\n",
       " ('top', 165),\n",
       " ('for', 148),\n",
       " ('time', 147),\n",
       " ('shown', 124)]"
      ]
     },
     "execution_count": 34,
     "metadata": {},
     "output_type": "execute_result"
    }
   ],
   "source": [
    "Counter([tok for q_tokens in wrong['question_tokens'] for tok in q_tokens]).most_common(30)"
   ]
  },
  {
   "cell_type": "code",
   "execution_count": 35,
   "metadata": {
    "colab": {
     "base_uri": "https://localhost:8080/"
    },
    "executionInfo": {
     "elapsed": 298,
     "status": "ok",
     "timestamp": 1605022434291,
     "user": {
      "displayName": "Sweta Kotha",
      "photoUrl": "",
      "userId": "17521858929454292764"
     },
     "user_tz": 360
    },
    "id": "MrNo-AhlyEEq",
    "outputId": "c027b1de-31a6-4704-8244-5b6758193e7d"
   },
   "outputs": [
    {
     "data": {
      "text/plain": [
       "[('is', 188),\n",
       " ('the', 182),\n",
       " ('this', 98),\n",
       " ('what', 80),\n",
       " ('a', 62),\n",
       " ('of', 57),\n",
       " ('on', 51),\n",
       " ('does', 37),\n",
       " ('in', 32),\n",
       " ('are', 26),\n",
       " ('that', 24),\n",
       " ('there', 15),\n",
       " ('name', 15),\n",
       " ('you', 14),\n",
       " ('it', 14),\n",
       " ('sign', 14),\n",
       " ('for', 13),\n",
       " ('book', 12),\n",
       " ('left', 12),\n",
       " ('these', 11),\n",
       " (\"'\", 11),\n",
       " ('say', 11),\n",
       " ('to', 11),\n",
       " ('written', 11),\n",
       " ('have', 10),\n",
       " ('s', 10),\n",
       " ('\"', 10),\n",
       " ('they', 10),\n",
       " ('an', 9),\n",
       " ('from', 9)]"
      ]
     },
     "execution_count": 35,
     "metadata": {},
     "output_type": "execute_result"
    }
   ],
   "source": [
    "Counter([tok for q_tokens in right['question_tokens'] for tok in q_tokens]).most_common(30)"
   ]
  },
  {
   "cell_type": "code",
   "execution_count": 36,
   "metadata": {
    "colab": {
     "base_uri": "https://localhost:8080/"
    },
    "executionInfo": {
     "elapsed": 520,
     "status": "ok",
     "timestamp": 1605022442769,
     "user": {
      "displayName": "Sweta Kotha",
      "photoUrl": "",
      "userId": "17521858929454292764"
     },
     "user_tz": 360
    },
    "id": "qe9uwS54yE2b",
    "outputId": "193b810f-d2e5-4fe1-8f51-cfb7d45ee6de"
   },
   "outputs": [
    {
     "data": {
      "text/plain": [
       "[('unanswerable', 638),\n",
       " ('answering does not require reading text in the image', 488),\n",
       " ('yes', 454),\n",
       " ('no', 339),\n",
       " ('3', 273),\n",
       " ('stop', 244),\n",
       " ('5', 233),\n",
       " ('1', 222),\n",
       " ('2', 195),\n",
       " ('lg', 195),\n",
       " ('9', 169),\n",
       " ('8', 157),\n",
       " ('htc', 137),\n",
       " ('2013', 132),\n",
       " ('4', 130),\n",
       " ('10', 125),\n",
       " ('samsung', 123),\n",
       " ('6', 120),\n",
       " ('2010', 117),\n",
       " ('11', 106),\n",
       " ('12', 101),\n",
       " ('16', 99),\n",
       " ('coca cola', 97),\n",
       " ('rolex', 97),\n",
       " ('7', 97),\n",
       " ('adidas', 96),\n",
       " ('a', 96),\n",
       " ('black', 96),\n",
       " ('t', 94),\n",
       " ('23', 93)]"
      ]
     },
     "execution_count": 36,
     "metadata": {},
     "output_type": "execute_result"
    }
   ],
   "source": [
    "Counter([subitem for item in wrong['answers'] for subitem in item]).most_common(30)"
   ]
  },
  {
   "cell_type": "code",
   "execution_count": 37,
   "metadata": {
    "colab": {
     "base_uri": "https://localhost:8080/"
    },
    "executionInfo": {
     "elapsed": 305,
     "status": "ok",
     "timestamp": 1605022446265,
     "user": {
      "displayName": "Sweta Kotha",
      "photoUrl": "",
      "userId": "17521858929454292764"
     },
     "user_tz": 360
    },
    "id": "dhaJtz6zyFmW",
    "outputId": "0070e971-74ab-4f5b-c7d6-788058e29067"
   },
   "outputs": [
    {
     "data": {
      "text/plain": [
       "[('yes', 1550),\n",
       " ('unanswerable', 400),\n",
       " ('answering does not require reading text in the image', 144),\n",
       " ('no', 86),\n",
       " ('not a question', 34),\n",
       " ('yes ', 8),\n",
       " ('french', 8),\n",
       " ('39', 8),\n",
       " ('16', 7),\n",
       " ('root beer', 7),\n",
       " ('2012', 7),\n",
       " ('1', 6),\n",
       " ('eucalyptus', 6),\n",
       " ('lg optimus', 6),\n",
       " ('no text in image', 5),\n",
       " ('lg', 5),\n",
       " ('quadrille', 5),\n",
       " ('6', 5),\n",
       " ('27/04/2015', 5),\n",
       " ('ues', 4),\n",
       " ('macbook', 4),\n",
       " ('tns', 4),\n",
       " ('siz', 4),\n",
       " ('storm chasers', 4),\n",
       " ('metro bilbao', 4),\n",
       " ('coca cola', 4),\n",
       " ('te', 4),\n",
       " ('rangers', 4),\n",
       " ('my first', 4),\n",
       " ('stahls', 4)]"
      ]
     },
     "execution_count": 37,
     "metadata": {},
     "output_type": "execute_result"
    }
   ],
   "source": [
    "Counter([subitem for item in right['answers'] for subitem in item]).most_common(30)"
   ]
  },
  {
   "cell_type": "code",
   "execution_count": 38,
   "metadata": {
    "colab": {
     "base_uri": "https://localhost:8080/"
    },
    "executionInfo": {
     "elapsed": 452,
     "status": "ok",
     "timestamp": 1605022460423,
     "user": {
      "displayName": "Sweta Kotha",
      "photoUrl": "",
      "userId": "17521858929454292764"
     },
     "user_tz": 360
    },
    "id": "X2tdwttDyGW_",
    "outputId": "9478cd9a-2153-4134-a0e3-95ad7f071e4f"
   },
   "outputs": [
    {
     "data": {
      "text/plain": [
       "[('yes', 2390), ('unanswerable', 2315)]"
      ]
     },
     "execution_count": 38,
     "metadata": {},
     "output_type": "execute_result"
    }
   ],
   "source": [
    "Counter([item for item in wrong['answer']]).most_common(30)"
   ]
  },
  {
   "cell_type": "code",
   "execution_count": 39,
   "metadata": {
    "colab": {
     "base_uri": "https://localhost:8080/"
    },
    "executionInfo": {
     "elapsed": 410,
     "status": "ok",
     "timestamp": 1605022465213,
     "user": {
      "displayName": "Sweta Kotha",
      "photoUrl": "",
      "userId": "17521858929454292764"
     },
     "user_tz": 360
    },
    "id": "lNjh4OjxyHE-",
    "outputId": "24a49e26-a155-4654-9e71-911cf7f4d75f"
   },
   "outputs": [
    {
     "data": {
      "text/plain": [
       "[('yes', 204), ('unanswerable', 91)]"
      ]
     },
     "execution_count": 39,
     "metadata": {},
     "output_type": "execute_result"
    }
   ],
   "source": [
    "Counter([item for item in right['answer']]).most_common(30)"
   ]
  },
  {
   "cell_type": "code",
   "execution_count": null,
   "metadata": {
    "id": "Tg35Wo7N1n0U"
   },
   "outputs": [],
   "source": []
  },
  {
   "cell_type": "code",
   "execution_count": 40,
   "metadata": {
    "id": "T1Nx9Uyt1n96"
   },
   "outputs": [],
   "source": [
    "from sklearn.feature_extraction.text import TfidfVectorizer"
   ]
  },
  {
   "cell_type": "code",
   "execution_count": 41,
   "metadata": {
    "id": "J0JjT93k2Ivx"
   },
   "outputs": [],
   "source": [
    "vectorizer = TfidfVectorizer()"
   ]
  },
  {
   "cell_type": "code",
   "execution_count": 42,
   "metadata": {
    "id": "2iuNE8od1oJM"
   },
   "outputs": [],
   "source": [
    "corpus = [\" \".join(item).strip() for item in right['question_tokens']]"
   ]
  },
  {
   "cell_type": "code",
   "execution_count": 43,
   "metadata": {
    "id": "MKZVvhZ52P90"
   },
   "outputs": [],
   "source": [
    "X = vectorizer.fit_transform(corpus)"
   ]
  },
  {
   "cell_type": "code",
   "execution_count": 44,
   "metadata": {
    "colab": {
     "base_uri": "https://localhost:8080/"
    },
    "executionInfo": {
     "elapsed": 276,
     "status": "ok",
     "timestamp": 1605023508797,
     "user": {
      "displayName": "Sweta Kotha",
      "photoUrl": "",
      "userId": "17521858929454292764"
     },
     "user_tz": 360
    },
    "id": "Bcv3cKZl2SCd",
    "outputId": "2a272144-376e-49c0-af09-824b1652aedb"
   },
   "outputs": [
    {
     "data": {
      "text/plain": [
       "['zin',\n",
       " 'navigation',\n",
       " 'flyers',\n",
       " 'fonzaleche',\n",
       " 'forum',\n",
       " 'frames',\n",
       " 'free',\n",
       " 'freeze',\n",
       " 'fridge',\n",
       " 'front',\n",
       " 'fruit',\n",
       " 'gallery',\n",
       " 'game',\n",
       " 'garbage',\n",
       " 'gas',\n",
       " 'gators',\n",
       " 'go',\n",
       " 'google',\n",
       " 'grape',\n",
       " 'grocery']"
      ]
     },
     "execution_count": 44,
     "metadata": {},
     "output_type": "execute_result"
    }
   ],
   "source": [
    "indices = np.argsort(vectorizer.idf_)[::-1]\n",
    "features = vectorizer.get_feature_names()\n",
    "top_n = 20\n",
    "top_features = [features[i] for i in indices[:top_n]]\n",
    "top_features"
   ]
  },
  {
   "cell_type": "code",
   "execution_count": null,
   "metadata": {
    "id": "65t_XYp50c8q"
   },
   "outputs": [],
   "source": [
    "#IDEAS\n",
    "#tfidf on the question tokens or look at spacy POS tags\n",
    "#cluster visual resnet embeddings"
   ]
  }
 ],
 "metadata": {
  "colab": {
   "authorship_tag": "ABX9TyOOPrzLdigVMirRpi2OtFlr",
   "collapsed_sections": [],
   "name": "textvqa_error_analysis.ipynb",
   "provenance": []
  },
  "kernelspec": {
   "display_name": "Environment (conda_pytorch_p36)",
   "language": "python",
   "name": "conda_pytorch_p36"
  },
  "language_info": {
   "codemirror_mode": {
    "name": "ipython",
    "version": 3
   },
   "file_extension": ".py",
   "mimetype": "text/x-python",
   "name": "python",
   "nbconvert_exporter": "python",
   "pygments_lexer": "ipython3",
   "version": "3.6.10"
  }
 },
 "nbformat": 4,
 "nbformat_minor": 1
}
